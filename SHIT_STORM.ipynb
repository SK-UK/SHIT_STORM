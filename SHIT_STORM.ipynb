{
 "cells": [
  {
   "cell_type": "markdown",
   "id": "b91f7095-5e4b-48d0-8176-32fbe9e75982",
   "metadata": {},
   "source": [
    "# THIS IS NOT A GOOD WAY TO VISUALISE YOUR DATA\n",
    "But it's fast... Program assumes you're looking at ThunderSTORM outputs with the default column headings from batch processing. Probably want to make that a bit more flexible.\n",
    "You will end up with opaque overlay spheres of a standard diameter for each localisation that you can look at in 3D."
   ]
  },
  {
   "cell_type": "code",
   "execution_count": 26,
   "id": "d39bd2e6-afb1-4886-a6ea-9a64d0175949",
   "metadata": {
    "tags": []
   },
   "outputs": [],
   "source": [
    "#Imports\n",
    "import napari\n",
    "import numpy as np\n",
    "from numpy import genfromtxt"
   ]
  },
  {
   "cell_type": "code",
   "execution_count": 27,
   "id": "9c1be707-777f-4ae0-bc20-1b754e9444be",
   "metadata": {
    "tags": []
   },
   "outputs": [],
   "source": [
    "#Functions\n",
    "def add_overlay(data,viewer,xsize,ysize,zsize,lims,colour):\n",
    "    x_vals = data[1:,3]\n",
    "    y_vals = data[1:,4]\n",
    "    z_vals = data[1:,11]\n",
    "    \n",
    "    #no rescale for now other than nm to um\n",
    "    scaled_x_vals = x_vals/1000;\n",
    "    scaled_y_vals = y_vals/1000;\n",
    "    scaled_z_vals = z_vals/1000;\n",
    "\n",
    "    points = np.column_stack((scaled_x_vals,scaled_y_vals,scaled_z_vals))\n",
    "    if(max(lims)>0 or min(lims)<0):\n",
    "        points = points[points[:,0] > lims[0]]\n",
    "        points = points[points[:,0] < lims[1]]\n",
    "        points = points[points[:,1] > lims[2]]\n",
    "        points = points[points[:,1] < lims[3]]\n",
    "        points = points[points[:,2] > lims[4]]\n",
    "        points = points[points[:,2] < lims[5]]\n",
    "    \n",
    "    #assume 50nm sphere\n",
    "    points_layer = viewer.add_points(points, size=0.05)\n",
    "    points_layer.face_color = colour\n",
    "    points_layer.blending = 'additive'\n",
    "    points_layer.opacity = 0.5"
   ]
  },
  {
   "cell_type": "code",
   "execution_count": 28,
   "id": "478a7c7c-6f2c-446d-820c-a6d23b87cb41",
   "metadata": {},
   "outputs": [
    {
     "name": "stderr",
     "output_type": "stream",
     "text": [
      "C:\\Users\\kumars2\\Anaconda3\\envs\\napari\\lib\\site-packages\\napari\\_vispy\\quaternion.py:25: RuntimeWarning: invalid value encountered in arcsin\n",
      "  np.arcsin(2 * (q.w * q.y - q.z * q.x)),\n",
      "C:\\Users\\kumars2\\Anaconda3\\envs\\napari\\lib\\site-packages\\napari\\_vispy\\quaternion.py:25: RuntimeWarning: invalid value encountered in arcsin\n",
      "  np.arcsin(2 * (q.w * q.y - q.z * q.x)),\n",
      "C:\\Users\\kumars2\\Anaconda3\\envs\\napari\\lib\\site-packages\\napari\\_vispy\\quaternion.py:25: RuntimeWarning: invalid value encountered in arcsin\n",
      "  np.arcsin(2 * (q.w * q.y - q.z * q.x)),\n"
     ]
    }
   ],
   "source": [
    "#Main program\n",
    "#Put your file paths in here...\n",
    "red_data = genfromtxt('C:\\\\Users\\\\kumars2\\\\Documents\\\\Projects\\\\Napari\\\\MGN_red.csv', delimiter=',')\n",
    "green_data = genfromtxt('C:\\\\Users\\\\kumars2\\\\Documents\\\\Projects\\\\Napari\\\\MGN_green.csv', delimiter=',')\n",
    "\n",
    "#Think the default ThunderSTORM outputs are in um. Set limits for ROI\n",
    "min_xlim,max_xlim = 30,50\n",
    "min_ylim,max_ylim = 30,50\n",
    "min_zlim,max_zlim = -1,1\n",
    "lims = [min_xlim,max_xlim,min_ylim,max_ylim,min_zlim,max_zlim]\n",
    "#lims = [0,0,0,0,0,0]\n",
    "\n",
    "#1um voxel cube of blankness\n",
    "cube = np.zeros([max_xlim-min_xlim,max_ylim-min_ylim,max_zlim-min_zlim])\n",
    "viewer = napari.view_image(cube)\n",
    "\n",
    "#Dump first data row ([1:]), think it's just headers\n",
    "add_overlay(red_data[1:],viewer,max_xlim-min_xlim,max_ylim-min_ylim,max_zlim-min_zlim,lims,'#ff0000')\n",
    "add_overlay(green_data[1:],viewer,max_xlim-min_xlim,max_ylim-min_ylim,max_zlim-min_zlim,lims,'#00ff00')\n",
    "\n",
    "#Setup viewing angle as face-on the 'xy' plane\n",
    "viewer.dims.ndisplay=3\n",
    "viewer.camera.angles=(90,90,0)"
   ]
  }
 ],
 "metadata": {
  "kernelspec": {
   "display_name": "Python 3",
   "language": "python",
   "name": "python3"
  },
  "language_info": {
   "codemirror_mode": {
    "name": "ipython",
    "version": 3
   },
   "file_extension": ".py",
   "mimetype": "text/x-python",
   "name": "python",
   "nbconvert_exporter": "python",
   "pygments_lexer": "ipython3",
   "version": "3.9.4"
  },
  "toc-showcode": true
 },
 "nbformat": 4,
 "nbformat_minor": 5
}
